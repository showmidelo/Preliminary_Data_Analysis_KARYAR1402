{
 "cells": [
  {
   "attachments": {},
   "cell_type": "markdown",
   "id": "3eadf1c4",
   "metadata": {},
   "source": [
    "<p dir=rtl style=\"direction: rtl;text-align: right;line-height:200%;font-family:vazir;font-size:medium \">\n",
    "<font face=\"vazir\" size=4 color=#9ebae8>\n",
    "ابتدا کتابخانه های مورد استفاده را وارد میکنیم و یک ماتریس ایجاد میکنیم\n",
    "    </font>\n",
    "</p>"
   ]
  },
  {
   "cell_type": "code",
   "execution_count": 36,
   "id": "8482793e",
   "metadata": {},
   "outputs": [
    {
     "data": {
      "text/plain": [
       "array([[8, 5, 7],\n",
       "       [2, 2, 7],\n",
       "       [7, 8, 2],\n",
       "       [9, 8, 6],\n",
       "       [3, 8, 8]])"
      ]
     },
     "execution_count": 36,
     "metadata": {},
     "output_type": "execute_result"
    }
   ],
   "source": [
    "import numpy as np\n",
    "np.random.seed(1402)\n",
    "a = np.random.randint(1,10, [5,3])\n",
    "a"
   ]
  },
  {
   "attachments": {},
   "cell_type": "markdown",
   "id": "fcb531b5",
   "metadata": {},
   "source": [
    "<p dir=rtl style=\"direction: rtl;text-align: right;line-height:200%;font-family:vazir;font-size:medium \">\n",
    "<font face=\"vazir\" size=4 color=#9ebae8>\n",
    "با استفاده از نامپای ایندکس اعدادی که در ماتریس a بزرگتر از 5 هستند را بیابید\n",
    "    </font>\n",
    "</p>"
   ]
  },
  {
   "cell_type": "code",
   "execution_count": null,
   "id": "d744a9c2",
   "metadata": {},
   "outputs": [],
   "source": []
  },
  {
   "attachments": {},
   "cell_type": "markdown",
   "id": "4c18e009",
   "metadata": {},
   "source": [
    "<p dir=rtl style=\"direction: rtl;text-align: right;line-height:200%;font-family:vazir;font-size:medium \">\n",
    "<font face=\"vazir\" size=4 color=#9ebae8>\n",
    "ماتریس a را به یک ماتریس یک بعدی تبدیل کنید بطوری که تمام عناصر آن باقی بماند\n",
    "    </font>\n",
    "</p>"
   ]
  },
  {
   "cell_type": "code",
   "execution_count": null,
   "id": "7bdc8f26",
   "metadata": {},
   "outputs": [],
   "source": []
  },
  {
   "attachments": {},
   "cell_type": "markdown",
   "id": "855b50af",
   "metadata": {},
   "source": [
    "<p dir=rtl style=\"direction: rtl;text-align: right;line-height:200%;font-family:vazir;font-size:medium \">\n",
    "<font face=\"vazir\" size=4 color=#9ebae8>\n",
    "کدی بنویسید که ستون دوم ماتریس a را در خروجی مانند زیر در یک ستون نمایش دهد\n",
    "    </font>\n",
    "</p>"
   ]
  },
  {
   "cell_type": "code",
   "execution_count": null,
   "id": "6a4ee93f",
   "metadata": {},
   "outputs": [],
   "source": [
    "# array([[8],\n",
    "#        [2],\n",
    "#        [7],\n",
    "#        [9],\n",
    "#        [3]])"
   ]
  },
  {
   "cell_type": "code",
   "execution_count": null,
   "id": "df2749f9",
   "metadata": {},
   "outputs": [],
   "source": []
  },
  {
   "attachments": {},
   "cell_type": "markdown",
   "id": "99bc92f3",
   "metadata": {},
   "source": [
    "<p dir=rtl style=\"direction: rtl;text-align: right;line-height:200%;font-family:vazir;font-size:medium \">\n",
    "<font face=\"vazir\" size=4 color=#9ebae8>\n",
    "با استفاده از نامپای یک آرایه تصادفی بسازید گه شامل اعداد ۱ تا ۹ باشد همه اعداد یک تا نه را شامل باشد و عددی تکرار نشود\n",
    "    </font>\n",
    "</p>"
   ]
  },
  {
   "cell_type": "code",
   "execution_count": null,
   "id": "3e173db9",
   "metadata": {},
   "outputs": [],
   "source": []
  },
  {
   "attachments": {},
   "cell_type": "markdown",
   "id": "ba0c83bd",
   "metadata": {},
   "source": [
    "<p dir=rtl style=\"direction: rtl;text-align: right;line-height:200%;font-family:vazir;font-size:medium \">\n",
    "<font face=\"vazir\" size=4 color=#9ebae8>\n",
    "آرایه ای که در مرحله قبل ساختید را از آخر به اول مرتب کنید\n",
    "    </font>\n",
    "</p>"
   ]
  },
  {
   "cell_type": "code",
   "execution_count": null,
   "id": "908cecf7",
   "metadata": {},
   "outputs": [],
   "source": []
  },
  {
   "attachments": {},
   "cell_type": "markdown",
   "id": "de465cbf",
   "metadata": {},
   "source": [
    "<p dir=rtl style=\"direction: rtl;text-align: right;line-height:200%;font-family:vazir;font-size:medium \">\n",
    "<font face=\"vazir\" size=4 color=#9ebae8>\n",
    "یک آرایه تصادفی با ۱۵ عضو بسازید که اعداد داخل آن بین صفر تا ۹۹ باشند و بزرگترین عددآن را با منفی ۵ جایگزین کنید\n",
    "    </font>\n",
    "</p>"
   ]
  },
  {
   "cell_type": "code",
   "execution_count": null,
   "id": "44b0324f",
   "metadata": {},
   "outputs": [],
   "source": []
  },
  {
   "attachments": {},
   "cell_type": "markdown",
   "id": "aa5bf0db",
   "metadata": {},
   "source": [
    "<p dir=rtl style=\"direction: rtl;text-align: right;line-height:200%;font-family:vazir;font-size:medium \">\n",
    "<font face=\"vazir\" size=4 color=#9ebae8>\n",
    "یک کد بنویسید که تست کند آیا تمام اعضای یک آرایه نامپای غیرصفر هست یا خیر، \n",
    "    </font>\n",
    "<font face=\"vazir\" size=4 color=#9ebae8>\n",
    "اگر آرایه شامل صفر نبود True و اگر آرایه شامل صفر بود False را نمایش دهد\n",
    "    </font>\n",
    "</p>"
   ]
  },
  {
   "cell_type": "code",
   "execution_count": null,
   "id": "67e69811",
   "metadata": {},
   "outputs": [],
   "source": []
  },
  {
   "attachments": {},
   "cell_type": "markdown",
   "id": "014bc249",
   "metadata": {},
   "source": [
    "<p dir=rtl style=\"direction: rtl;text-align: right;line-height:200%;font-family:vazir;font-size:medium \">\n",
    "<font face=\"vazir\" size=4 color=#9ebae8>\n",
    "یک کد بنویسید که ماتریس a را بگیرد و یک قاب (برد) دور تا دور آن با عدد صفر ایجاد کند مانند زیر:\n",
    "    </font>\n",
    "</p>"
   ]
  },
  {
   "cell_type": "code",
   "execution_count": null,
   "id": "e16f89dc",
   "metadata": {},
   "outputs": [],
   "source": [
    "input:\n",
    "[[8 5 7]\n",
    " [2 2 7]\n",
    " [7 8 2]\n",
    " [9 8 6]\n",
    " [3 8 8]]\n",
    "\n",
    "out:\n",
    "[[0 0 0 0 0]\n",
    " [0 8 5 7 0]\n",
    " [0 2 2 7 0]\n",
    " [0 7 8 2 0]\n",
    " [0 9 8 6 0]\n",
    " [0 3 8 8 0]\n",
    " [0 0 0 0 0]]"
   ]
  }
 ],
 "metadata": {
  "kernelspec": {
   "display_name": "base",
   "language": "python",
   "name": "python3"
  },
  "language_info": {
   "codemirror_mode": {
    "name": "ipython",
    "version": 3
   },
   "file_extension": ".py",
   "mimetype": "text/x-python",
   "name": "python",
   "nbconvert_exporter": "python",
   "pygments_lexer": "ipython3",
   "version": "3.10.9"
  }
 },
 "nbformat": 4,
 "nbformat_minor": 5
}
