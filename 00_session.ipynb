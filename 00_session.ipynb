{
 "cells": [
  {
   "attachments": {},
   "cell_type": "markdown",
   "metadata": {},
   "source": [
    "# Data Analyst RoadMap"
   ]
  },
  {
   "attachments": {},
   "cell_type": "markdown",
   "metadata": {},
   "source": [
    "1. Programming Language (Python, R)\n",
    "2. Statistics\n",
    "3. Databases (SQL)\n",
    "4. ETL Tools\n",
    "5. Business Intelligence Tools\n",
    "6. Advanced Excel\n",
    "\n",
    "![](https://user-images.githubusercontent.com/20041231/211466229-df1c12da-ed6e-4bb9-97f7-84871a287580.png)\n",
    "![](https://user-images.githubusercontent.com/20041231/211466981-43ebae2c-0581-4604-8b01-35a97d350080.png)\n",
    "![](https://user-images.githubusercontent.com/20041231/211467108-a82c82fa-4366-440b-8294-5bd3e0bbf081.png)\n",
    "![](https://user-images.githubusercontent.com/20041231/211467463-3fe5e606-e11b-49cf-9071-3abdd25584c8.png)\n",
    "![](https://user-images.githubusercontent.com/20041231/211467512-c1e429b7-1bb9-47c0-b39c-99932b9043a5.png)\n",
    "![](https://user-images.githubusercontent.com/20041231/211472581-3b05b5d7-2d76-4002-835a-172cada11672.png)\n",
    "![](https://user-images.githubusercontent.com/20041231/211473712-f8737fd4-0622-49de-b751-706322813b31.JPG)\n",
    "![](https://user-images.githubusercontent.com/20041231/211717386-39f75daf-0c1e-4295-8e00-657578f397a1.jpg)\n",
    "![](https://user-images.githubusercontent.com/20041231/211717508-ccd3da44-1e33-47c0-a1ec-66583f73c496.jpg)\n",
    "![](https://user-images.githubusercontent.com/20041231/211717601-a7520e3b-bd50-4cbd-957a-8ff2bbce25b3.png)"
   ]
  },
  {
   "attachments": {},
   "cell_type": "markdown",
   "metadata": {},
   "source": [
    "# **WHAT IS DATA??**\n",
    "\n",
    "![](https://quera.org/qbox/view/AJhyEegcoO/RawDataSample.jpg)"
   ]
  },
  {
   "attachments": {},
   "cell_type": "markdown",
   "metadata": {},
   "source": [
    "# 1. Unstructured Data\n",
    "# 2. Semi-structured Data\n",
    "# 3. Structured Data"
   ]
  },
  {
   "attachments": {},
   "cell_type": "markdown",
   "metadata": {},
   "source": [
    "----\n",
    "\n",
    "----"
   ]
  },
  {
   "attachments": {},
   "cell_type": "markdown",
   "metadata": {},
   "source": [
    "\n",
    "{\n",
    "    \"First_Name\": \"John\",\n",
    "    \"Last_Name\": \"Doe\",\n",
    "    \"Age\": 42,\n",
    "    \"Home_Address\": {\n",
    "\n",
    "        \"Address_1\": \"123 Main Street\",\n",
    "        \"Address_2\": [],\n",
    "        \"City\": \"New York\",\n",
    "        \"State\": \"NY\",\n",
    "        \"Zip_Code\": \"10021\"\n",
    "    },\n",
    "\n",
    "    \"Phone_Number\": [\n",
    "\n",
    "        {\n",
    "        \"Type\": \"cell\",\n",
    "        \"Number\": \"212-555-1212\"\n",
    "        },\n",
    "\n",
    "        {\n",
    "        \"Type\": \"home\",\n",
    "        \"Number\": \"212 555-4567\"\n",
    "        }\n",
    "\n",
    "    ],\n",
    "    \"Children\": [],\n",
    "    \"Spouse\": \"yes\"\n",
    "}"
   ]
  },
  {
   "attachments": {},
   "cell_type": "markdown",
   "metadata": {},
   "source": [
    "# How many types of data do we have?"
   ]
  },
  {
   "attachments": {},
   "cell_type": "markdown",
   "metadata": {},
   "source": [
    "![](https://quera.ir/qbox/view/PmIngDhz37/diagram.png)"
   ]
  }
 ],
 "metadata": {
  "kernelspec": {
   "display_name": "Python 3",
   "language": "python",
   "name": "python3"
  },
  "language_info": {
   "codemirror_mode": {
    "name": "ipython",
    "version": 3
   },
   "file_extension": ".py",
   "mimetype": "text/x-python",
   "name": "python",
   "nbconvert_exporter": "python",
   "pygments_lexer": "ipython3",
   "version": "3.10.6"
  },
  "orig_nbformat": 4
 },
 "nbformat": 4,
 "nbformat_minor": 2
}
