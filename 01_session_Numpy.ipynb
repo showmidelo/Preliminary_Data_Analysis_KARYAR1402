{
 "cells": [
  {
   "attachments": {},
   "cell_type": "markdown",
   "metadata": {},
   "source": [
    "# **Numpy?**"
   ]
  },
  {
   "attachments": {},
   "cell_type": "markdown",
   "metadata": {},
   "source": [
    "1.  Array Definition\n",
    "2.  Working with Array\n",
    "3.  General Functions\n",
    "4.  Aggregate Functions\n",
    "5.  slicing Array\n",
    "6.  Comparison and Boolean logic\n",
    "7.  Indexing with arrays\n",
    "8.  Sorting and Linear Algebra"
   ]
  },
  {
   "attachments": {},
   "cell_type": "markdown",
   "metadata": {},
   "source": [
    "----\n",
    "\n",
    "----"
   ]
  },
  {
   "attachments": {},
   "cell_type": "markdown",
   "metadata": {},
   "source": [
    "## How to import and check our numpy version??"
   ]
  },
  {
   "cell_type": "code",
   "execution_count": null,
   "metadata": {},
   "outputs": [],
   "source": [
    "import numpy as np # عموما به طور قراردادی از کتابخانهٔ نامپای به این شکل استفاده می‌شود\n",
    "np.__version__ "
   ]
  },
  {
   "attachments": {},
   "cell_type": "markdown",
   "metadata": {},
   "source": [
    "# In this Part We talk mostly about\n",
    "-  ## Array definition and its methods and how they work and why we need array"
   ]
  },
  {
   "cell_type": "code",
   "execution_count": null,
   "metadata": {},
   "outputs": [],
   "source": [
    "np.array([1, 2, 3]) # آرایه‌ی یک بعدی شامل 3 عدد"
   ]
  },
  {
   "cell_type": "markdown",
   "metadata": {},
   "source": []
  },
  {
   "cell_type": "code",
   "execution_count": null,
   "metadata": {},
   "outputs": [],
   "source": [
    "np.array([[1, 2], # آرایه‌ی دو بعدی 2*3 شامل 6 عدد \n",
    "         [3, 4],\n",
    "         [5, 6]])"
   ]
  },
  {
   "cell_type": "code",
   "execution_count": null,
   "metadata": {},
   "outputs": [],
   "source": [
    "np.array([[['000', '001'], ['010', '011']], # آرایه‌ی سه بعدی 2*2*2 شامل 8 رشته\n",
    "          [['100', '101'], ['110', '111']]])\n",
    "# نوع خانه‌های آرایه‌ی را نشان می‌دهد و dtype\n",
    "# که نوع این آرایه‌ی می‌شود به معنای رشته یونی‌کد 3 حرفی است <U3"
   ]
  },
  {
   "cell_type": "code",
   "execution_count": null,
   "metadata": {},
   "outputs": [],
   "source": [
    "np.zeros(3) # آرایه‌ی یک بعدی شامل 3 عدد حقیقی برابر صفر"
   ]
  },
  {
   "cell_type": "code",
   "execution_count": null,
   "metadata": {},
   "outputs": [],
   "source": [
    "np.ones((2, 3)) # آرایه‌‌ی دو بعدی 3*2 شامل 6 عدد حقیقی برابر یک"
   ]
  },
  {
   "cell_type": "code",
   "execution_count": null,
   "metadata": {},
   "outputs": [],
   "source": [
    "np.full((3, 2), '#') # آرایه‌ی دو بعدی 2*3 شامل 6 رشتهٔ '#' یکسان"
   ]
  },
  {
   "cell_type": "code",
   "execution_count": null,
   "metadata": {},
   "outputs": [],
   "source": [
    "np.arange(0, 15, 4) # آرایه‌ی یک بعدی شامل اعداد صحیح پیش از 15 با شروع از 0 و با فاصله 4"
   ]
  },
  {
   "cell_type": "code",
   "execution_count": null,
   "metadata": {},
   "outputs": [],
   "source": [
    "np.linspace(0, 20, 5) # آرایه‌ی یک بعدی شامل 5 عدد حقیقی در بازه 0 تا 20 (شامل این دو) با فاصله برابر"
   ]
  },
  {
   "cell_type": "code",
   "execution_count": null,
   "metadata": {},
   "outputs": [],
   "source": [
    "np.eye(3) # آرایه‌ی دو بعدی 3*3 متناظر با ماتریس همانی (قطر 1 و باقی خانه‌ها 0)"
   ]
  },
  {
   "cell_type": "code",
   "execution_count": null,
   "metadata": {},
   "outputs": [],
   "source": [
    "np.empty(3) # آرایه‌ی یک بعدی شامل 3 عدد نامشخص (بسته به مقدار داخل حافظه)"
   ]
  },
  {
   "cell_type": "code",
   "execution_count": null,
   "metadata": {},
   "outputs": [],
   "source": [
    "np.random.random(3) # آرایه‌ی یک بعدی شامل 3 عدد تصادفی از توزیع یکنواخت بین 0 و 1"
   ]
  },
  {
   "cell_type": "code",
   "execution_count": null,
   "metadata": {},
   "outputs": [],
   "source": [
    "np.random.randint(0, 10, (3, 3)) # آرایه‌ی دو بعدی 3*3 شامل اعداد صحیح تصادفی بین 0 تا 9 "
   ]
  },
  {
   "cell_type": "code",
   "execution_count": null,
   "metadata": {},
   "outputs": [],
   "source": [
    "np.random.normal(0, 1, (2, 3)) # آرایه‌ی دو بعدی 3*2 شامل اعداد تصادفی از توزیع نرمال با میانگین 0 و واریانس 1 "
   ]
  },
  {
   "cell_type": "code",
   "execution_count": null,
   "metadata": {},
   "outputs": [],
   "source": [
    "a = np.random.randint(0, 10, (2, 3))\n",
    "np.full_like(a, 3) # آرایه‌ی پر از 3 با ابعاد مشابه آرایه ورودی (3*2)"
   ]
  },
  {
   "attachments": {},
   "cell_type": "markdown",
   "metadata": {},
   "source": [
    "![](https://quera.org/qbox/view/un7crtXtLU/full_like.gif)"
   ]
  },
  {
   "cell_type": "code",
   "execution_count": null,
   "metadata": {},
   "outputs": [],
   "source": [
    "np.array([False, True], dtype='bool_') # نوع مقدار بولی\n",
    "# کاراکتر _ برای اشاره به نوع داخل نامپای است اما می‌توان آن را برداشت"
   ]
  },
  {
   "cell_type": "code",
   "execution_count": null,
   "metadata": {},
   "outputs": [],
   "source": [
    "np.array([1, 2, 3.14], dtype='int_') # نوع عدد صحیح (عدد سوم تبدیل به 3 می‌شود)"
   ]
  },
  {
   "cell_type": "code",
   "execution_count": null,
   "metadata": {},
   "outputs": [],
   "source": [
    "np.array([2.71828182845, 3.14159265359], dtype='float64') # نوع عدد حقیقی 64 بیتی"
   ]
  },
  {
   "cell_type": "code",
   "execution_count": null,
   "metadata": {},
   "outputs": [],
   "source": [
    "np.array([255], dtype='uint8') # نوع عدد صحیح نامنفی 8 بیتی"
   ]
  },
  {
   "cell_type": "code",
   "execution_count": null,
   "metadata": {},
   "outputs": [],
   "source": [
    "np.array(['Hello', 'World'], dtype='str_') # نوع رشته"
   ]
  },
  {
   "cell_type": "code",
   "execution_count": null,
   "metadata": {},
   "outputs": [],
   "source": [
    "a = np.array([[1, 2],\n",
    "             [3, 4],\n",
    "             [5, 6]], dtype='float64')\n",
    "print(a)\n",
    "print('number of dimensions:', a.ndim) # تعداد ابعاد آرایه\n",
    "print('shape:', a.shape) # اندازه ابعاد آرایه\n",
    "print('size:', a.size) # تعداد خانه‌های آرایه\n",
    "print('dtype:', a.dtype) # نوع داده آرایه"
   ]
  },
  {
   "cell_type": "markdown",
   "metadata": {},
   "source": [
    "![](https://quera.org/qbox/view/s1CbjTbEPH/dimensions.PNG)"
   ]
  },
  {
   "cell_type": "code",
   "execution_count": null,
   "metadata": {},
   "outputs": [],
   "source": [
    "c = np.array(['h', 'e', 'l', 'l', 'o'])\n",
    "print(c)\n",
    "print(c.itemsize, 'bytes') # تعداد بایت برای هر خانه آرایه\n",
    "print(c.nbytes, 'bytes') # تعداد بایت برای کل آرایه"
   ]
  },
  {
   "cell_type": "code",
   "execution_count": null,
   "metadata": {},
   "outputs": [],
   "source": []
  }
 ],
 "metadata": {
  "kernelspec": {
   "display_name": "Python 3",
   "language": "python",
   "name": "python3"
  },
  "language_info": {
   "codemirror_mode": {
    "name": "ipython",
    "version": 3
   },
   "file_extension": ".py",
   "mimetype": "text/x-python",
   "name": "python",
   "nbconvert_exporter": "python",
   "pygments_lexer": "ipython3",
   "version": "3.10.6"
  },
  "orig_nbformat": 4
 },
 "nbformat": 4,
 "nbformat_minor": 2
}
